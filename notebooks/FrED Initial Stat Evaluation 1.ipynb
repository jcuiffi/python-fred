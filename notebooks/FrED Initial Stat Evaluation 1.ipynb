{
 "cells": [
  {
   "cell_type": "markdown",
   "metadata": {},
   "source": [
    "## Initial FrED Statistical Exploration 1"
   ]
  },
  {
   "cell_type": "markdown",
   "metadata": {},
   "source": [
    "Exploration of basic statistics on initial FrED data.\n",
    "\n",
    "Uses data - \"Run_Comparison_1.csv\"\n",
    "\n",
    "J. Cuiffi - Penn State New Kensington, Data from MIT - B. Anthony, D. Kim"
   ]
  },
  {
   "cell_type": "code",
   "execution_count": 57,
   "metadata": {},
   "outputs": [],
   "source": [
    "import pandas as pd\n",
    "import numpy as np\n",
    "import matplotlib.pyplot as plt"
   ]
  },
  {
   "cell_type": "code",
   "execution_count": 58,
   "metadata": {},
   "outputs": [
    {
     "data": {
      "text/html": [
       "<div>\n",
       "<style scoped>\n",
       "    .dataframe tbody tr th:only-of-type {\n",
       "        vertical-align: middle;\n",
       "    }\n",
       "\n",
       "    .dataframe tbody tr th {\n",
       "        vertical-align: top;\n",
       "    }\n",
       "\n",
       "    .dataframe thead th {\n",
       "        text-align: right;\n",
       "    }\n",
       "</style>\n",
       "<table border=\"1\" class=\"dataframe\">\n",
       "  <thead>\n",
       "    <tr style=\"text-align: right;\">\n",
       "      <th></th>\n",
       "      <th>Time (s)</th>\n",
       "      <th>Run A Diameter (mm)</th>\n",
       "      <th>Run B Diameter (mm)</th>\n",
       "    </tr>\n",
       "  </thead>\n",
       "  <tbody>\n",
       "    <tr>\n",
       "      <th>0</th>\n",
       "      <td>0.0</td>\n",
       "      <td>0.395941</td>\n",
       "      <td>0.382270</td>\n",
       "    </tr>\n",
       "    <tr>\n",
       "      <th>1</th>\n",
       "      <td>0.1</td>\n",
       "      <td>0.395941</td>\n",
       "      <td>0.382270</td>\n",
       "    </tr>\n",
       "    <tr>\n",
       "      <th>2</th>\n",
       "      <td>0.2</td>\n",
       "      <td>0.395941</td>\n",
       "      <td>0.382270</td>\n",
       "    </tr>\n",
       "    <tr>\n",
       "      <th>3</th>\n",
       "      <td>0.3</td>\n",
       "      <td>0.395941</td>\n",
       "      <td>0.382270</td>\n",
       "    </tr>\n",
       "    <tr>\n",
       "      <th>4</th>\n",
       "      <td>0.4</td>\n",
       "      <td>0.395941</td>\n",
       "      <td>0.382270</td>\n",
       "    </tr>\n",
       "    <tr>\n",
       "      <th>...</th>\n",
       "      <td>...</td>\n",
       "      <td>...</td>\n",
       "      <td>...</td>\n",
       "    </tr>\n",
       "    <tr>\n",
       "      <th>995</th>\n",
       "      <td>99.5</td>\n",
       "      <td>0.368600</td>\n",
       "      <td>0.341259</td>\n",
       "    </tr>\n",
       "    <tr>\n",
       "      <th>996</th>\n",
       "      <td>99.6</td>\n",
       "      <td>0.368600</td>\n",
       "      <td>0.327588</td>\n",
       "    </tr>\n",
       "    <tr>\n",
       "      <th>997</th>\n",
       "      <td>99.7</td>\n",
       "      <td>0.368600</td>\n",
       "      <td>0.327588</td>\n",
       "    </tr>\n",
       "    <tr>\n",
       "      <th>998</th>\n",
       "      <td>99.8</td>\n",
       "      <td>0.368600</td>\n",
       "      <td>0.341259</td>\n",
       "    </tr>\n",
       "    <tr>\n",
       "      <th>999</th>\n",
       "      <td>99.9</td>\n",
       "      <td>0.382270</td>\n",
       "      <td>0.327588</td>\n",
       "    </tr>\n",
       "  </tbody>\n",
       "</table>\n",
       "<p>1000 rows × 3 columns</p>\n",
       "</div>"
      ],
      "text/plain": [
       "     Time (s)  Run A Diameter (mm)  Run B Diameter (mm)\n",
       "0         0.0             0.395941             0.382270\n",
       "1         0.1             0.395941             0.382270\n",
       "2         0.2             0.395941             0.382270\n",
       "3         0.3             0.395941             0.382270\n",
       "4         0.4             0.395941             0.382270\n",
       "..        ...                  ...                  ...\n",
       "995      99.5             0.368600             0.341259\n",
       "996      99.6             0.368600             0.327588\n",
       "997      99.7             0.368600             0.327588\n",
       "998      99.8             0.368600             0.341259\n",
       "999      99.9             0.382270             0.327588\n",
       "\n",
       "[1000 rows x 3 columns]"
      ]
     },
     "execution_count": 58,
     "metadata": {},
     "output_type": "execute_result"
    }
   ],
   "source": [
    "# import data - no path - data should be in same folder as notebook\n",
    "data1 = pd.read_csv('Run_Comparison_1.csv')\n",
    "data1"
   ]
  },
  {
   "cell_type": "code",
   "execution_count": 59,
   "metadata": {},
   "outputs": [
    {
     "data": {
      "text/plain": [
       "(0, 0.6)"
      ]
     },
     "execution_count": 59,
     "metadata": {},
     "output_type": "execute_result"
    },
    {
     "data": {
      "image/png": "[encoded data removed]",
      "text/plain": [
       "<Figure size 432x288 with 1 Axes>"
      ]
     },
     "metadata": {
      "needs_background": "light"
     },
     "output_type": "display_data"
    }
   ],
   "source": [
    "# plot data\n",
    "# display options\n",
    "%matplotlib inline\n",
    "#%matplotlib notebook\n",
    "plt.plot(data1['Time (s)'], data1['Run A Diameter (mm)'])\n",
    "plt.plot(data1['Time (s)'], data1['Run B Diameter (mm)'])\n",
    "plt.xlabel('Time (s)')\n",
    "plt.ylabel('Fiber Diameter (mm)')\n",
    "plt.legend()\n",
    "plt.ylim(0,.6)"
   ]
  },
  {
   "cell_type": "code",
   "execution_count": 60,
   "metadata": {},
   "outputs": [
    {
     "data": {
      "text/html": [
       "<div>\n",
       "<style scoped>\n",
       "    .dataframe tbody tr th:only-of-type {\n",
       "        vertical-align: middle;\n",
       "    }\n",
       "\n",
       "    .dataframe tbody tr th {\n",
       "        vertical-align: top;\n",
       "    }\n",
       "\n",
       "    .dataframe thead th {\n",
       "        text-align: right;\n",
       "    }\n",
       "</style>\n",
       "<table border=\"1\" class=\"dataframe\">\n",
       "  <thead>\n",
       "    <tr style=\"text-align: right;\">\n",
       "      <th></th>\n",
       "      <th>Time (s)</th>\n",
       "      <th>Run A Diameter (mm)</th>\n",
       "      <th>Run B Diameter (mm)</th>\n",
       "      <th>Run A Rolling Ave</th>\n",
       "      <th>Run B Rolling Ave</th>\n",
       "    </tr>\n",
       "  </thead>\n",
       "  <tbody>\n",
       "    <tr>\n",
       "      <th>0</th>\n",
       "      <td>0.0</td>\n",
       "      <td>0.395941</td>\n",
       "      <td>0.382270</td>\n",
       "      <td>NaN</td>\n",
       "      <td>NaN</td>\n",
       "    </tr>\n",
       "    <tr>\n",
       "      <th>1</th>\n",
       "      <td>0.1</td>\n",
       "      <td>0.395941</td>\n",
       "      <td>0.382270</td>\n",
       "      <td>NaN</td>\n",
       "      <td>NaN</td>\n",
       "    </tr>\n",
       "    <tr>\n",
       "      <th>2</th>\n",
       "      <td>0.2</td>\n",
       "      <td>0.395941</td>\n",
       "      <td>0.382270</td>\n",
       "      <td>NaN</td>\n",
       "      <td>NaN</td>\n",
       "    </tr>\n",
       "    <tr>\n",
       "      <th>3</th>\n",
       "      <td>0.3</td>\n",
       "      <td>0.395941</td>\n",
       "      <td>0.382270</td>\n",
       "      <td>NaN</td>\n",
       "      <td>NaN</td>\n",
       "    </tr>\n",
       "    <tr>\n",
       "      <th>4</th>\n",
       "      <td>0.4</td>\n",
       "      <td>0.395941</td>\n",
       "      <td>0.382270</td>\n",
       "      <td>NaN</td>\n",
       "      <td>NaN</td>\n",
       "    </tr>\n",
       "    <tr>\n",
       "      <th>...</th>\n",
       "      <td>...</td>\n",
       "      <td>...</td>\n",
       "      <td>...</td>\n",
       "      <td>...</td>\n",
       "      <td>...</td>\n",
       "    </tr>\n",
       "    <tr>\n",
       "      <th>995</th>\n",
       "      <td>99.5</td>\n",
       "      <td>0.368600</td>\n",
       "      <td>0.341259</td>\n",
       "      <td>0.374068</td>\n",
       "      <td>0.341259</td>\n",
       "    </tr>\n",
       "    <tr>\n",
       "      <th>996</th>\n",
       "      <td>99.6</td>\n",
       "      <td>0.368600</td>\n",
       "      <td>0.327588</td>\n",
       "      <td>0.372701</td>\n",
       "      <td>0.339892</td>\n",
       "    </tr>\n",
       "    <tr>\n",
       "      <th>997</th>\n",
       "      <td>99.7</td>\n",
       "      <td>0.368600</td>\n",
       "      <td>0.327588</td>\n",
       "      <td>0.371334</td>\n",
       "      <td>0.338525</td>\n",
       "    </tr>\n",
       "    <tr>\n",
       "      <th>998</th>\n",
       "      <td>99.8</td>\n",
       "      <td>0.368600</td>\n",
       "      <td>0.341259</td>\n",
       "      <td>0.369967</td>\n",
       "      <td>0.338525</td>\n",
       "    </tr>\n",
       "    <tr>\n",
       "      <th>999</th>\n",
       "      <td>99.9</td>\n",
       "      <td>0.382270</td>\n",
       "      <td>0.327588</td>\n",
       "      <td>0.369967</td>\n",
       "      <td>0.337158</td>\n",
       "    </tr>\n",
       "  </tbody>\n",
       "</table>\n",
       "<p>1000 rows × 5 columns</p>\n",
       "</div>"
      ],
      "text/plain": [
       "     Time (s)  Run A Diameter (mm)  Run B Diameter (mm)  Run A Rolling Ave  \\\n",
       "0         0.0             0.395941             0.382270                NaN   \n",
       "1         0.1             0.395941             0.382270                NaN   \n",
       "2         0.2             0.395941             0.382270                NaN   \n",
       "3         0.3             0.395941             0.382270                NaN   \n",
       "4         0.4             0.395941             0.382270                NaN   \n",
       "..        ...                  ...                  ...                ...   \n",
       "995      99.5             0.368600             0.341259           0.374068   \n",
       "996      99.6             0.368600             0.327588           0.372701   \n",
       "997      99.7             0.368600             0.327588           0.371334   \n",
       "998      99.8             0.368600             0.341259           0.369967   \n",
       "999      99.9             0.382270             0.327588           0.369967   \n",
       "\n",
       "     Run B Rolling Ave  \n",
       "0                  NaN  \n",
       "1                  NaN  \n",
       "2                  NaN  \n",
       "3                  NaN  \n",
       "4                  NaN  \n",
       "..                 ...  \n",
       "995           0.341259  \n",
       "996           0.339892  \n",
       "997           0.338525  \n",
       "998           0.338525  \n",
       "999           0.337158  \n",
       "\n",
       "[1000 rows x 5 columns]"
      ]
     },
     "execution_count": 60,
     "metadata": {},
     "output_type": "execute_result"
    }
   ],
   "source": [
    "# add rolling averages\n",
    "data1['Run A Rolling Ave'] = data1['Run A Diameter (mm)'].rolling(window=10).mean()\n",
    "data1['Run B Rolling Ave'] = data1['Run B Diameter (mm)'].rolling(window=10).mean()\n",
    "data1"
   ]
  },
  {
   "cell_type": "code",
   "execution_count": 61,
   "metadata": {},
   "outputs": [
    {
     "data": {
      "text/plain": [
       "(0, 0.6)"
      ]
     },
     "execution_count": 61,
     "metadata": {},
     "output_type": "execute_result"
    },
    {
     "data": {
      "image/png": "[encoded data removed]",
      "text/plain": [
       "<Figure size 432x288 with 1 Axes>"
      ]
     },
     "metadata": {
      "needs_background": "light"
     },
     "output_type": "display_data"
    }
   ],
   "source": [
    "# plot rolling averages\n",
    "plt.plot(data1['Time (s)'], data1['Run A Rolling Ave'])\n",
    "plt.plot(data1['Time (s)'], data1['Run B Rolling Ave'])\n",
    "plt.xlabel('Time (s)')\n",
    "plt.ylabel('Fiber Diameter (mm)')\n",
    "plt.legend()\n",
    "plt.ylim(0,.6)"
   ]
  },
  {
   "cell_type": "code",
   "execution_count": 62,
   "metadata": {},
   "outputs": [
    {
     "name": "stdout",
     "output_type": "stream",
     "text": [
      "Run A Mean: 0.36265313700000157\n",
      "Run A Std Dev: 0.03198784886968082\n",
      "Run B Mean: 0.3609715840000002\n",
      "Run B Std Dev: 0.023382381495933205\n"
     ]
    }
   ],
   "source": [
    "# basic statistics\n",
    "print('Run A Mean:', data1['Run A Diameter (mm)'].mean())\n",
    "print('Run A Std Dev:', data1['Run A Diameter (mm)'].std())\n",
    "print('Run B Mean:', data1['Run B Diameter (mm)'].mean())\n",
    "print('Run B Std Dev:', data1['Run B Diameter (mm)'].std())"
   ]
  },
  {
   "cell_type": "code",
   "execution_count": 63,
   "metadata": {},
   "outputs": [
    {
     "name": "stdout",
     "output_type": "stream",
     "text": [
      "Run A Histogram\n",
      "[0.272907   0.28267157 0.29243614 0.30220071 0.31196529 0.32172986\n",
      " 0.33149443 0.341259   0.35102357 0.36078814 0.37055271 0.38031729\n",
      " 0.39008186 0.39984643 0.409611  ]\n"
     ]
    },
    {
     "data": {
      "image/png": "[encoded data removed]",
      "text/plain": [
       "<Figure size 432x288 with 1 Axes>"
      ]
     },
     "metadata": {
      "needs_background": "light"
     },
     "output_type": "display_data"
    }
   ],
   "source": [
    "# histogram - A\n",
    "n, bins, patches = plt.hist(data1['Run A Diameter (mm)'],14)\n",
    "plt.xlabel('Diameter Bins (mm)')\n",
    "plt.ylabel('Number of Measurements')\n",
    "print('Run A Histogram')\n",
    "print(bins)"
   ]
  },
  {
   "cell_type": "code",
   "execution_count": 64,
   "metadata": {},
   "outputs": [
    {
     "name": "stdout",
     "output_type": "stream",
     "text": [
      "Run B Histogram\n"
     ]
    },
    {
     "data": {
      "image/png": "[encoded data removed]",
      "text/plain": [
       "<Figure size 432x288 with 1 Axes>"
      ]
     },
     "metadata": {
      "needs_background": "light"
     },
     "output_type": "display_data"
    }
   ],
   "source": [
    "# histogram - B\n",
    "plt.hist(data1['Run B Diameter (mm)'],bins)\n",
    "plt.xlabel('Diameter Bins (mm)')\n",
    "plt.ylabel('Number of Measurements')\n",
    "print('Run B Histogram')"
   ]
  },
  {
   "cell_type": "code",
   "execution_count": 65,
   "metadata": {},
   "outputs": [],
   "source": [
    "# import FFT module\n",
    "from scipy import fftpack"
   ]
  },
  {
   "cell_type": "code",
   "execution_count": 66,
   "metadata": {},
   "outputs": [
    {
     "name": "stdout",
     "output_type": "stream",
     "text": [
      "Fiber Diameter Signal Analysis\n"
     ]
    },
    {
     "data": {
      "image/png": "[encoded data removed]",
      "text/plain": [
       "<Figure size 432x288 with 1 Axes>"
      ]
     },
     "metadata": {
      "needs_background": "light"
     },
     "output_type": "display_data"
    }
   ],
   "source": [
    "# Frequency analysis\n",
    "# sampling rate #/s\n",
    "f_sample = 10\n",
    "magnitudesA = fftpack.fft(data1['Run A Diameter (mm)'])\n",
    "magnitudesB = fftpack.fft(data1['Run B Diameter (mm)'])\n",
    "freqs = fftpack.fftfreq(len(data1['Run A Diameter (mm)'])) * f_sample\n",
    "plt.plot(freqs, np.abs(magnitudesA))\n",
    "plt.plot(freqs, np.abs(magnitudesB))\n",
    "plt.xlim(0,1)\n",
    "plt.ylim(0,25)\n",
    "plt.ylabel('Magnitude')\n",
    "plt.xlabel('Frequency')\n",
    "print('Fiber Diameter Signal Analysis')"
   ]
  },
  {
   "cell_type": "code",
   "execution_count": null,
   "metadata": {},
   "outputs": [],
   "source": []
  }
 ],
 "metadata": {
  "kernelspec": {
   "display_name": "Python 3",
   "language": "python",
   "name": "python3"
  },
  "language_info": {
   "codemirror_mode": {
    "name": "ipython",
    "version": 3
   },
   "file_extension": ".py",
   "mimetype": "text/x-python",
   "name": "python",
   "nbconvert_exporter": "python",
   "pygments_lexer": "ipython3",
   "version": "3.7.6"
  }
 },
 "nbformat": 4,
 "nbformat_minor": 4
}
